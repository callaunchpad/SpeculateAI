{
 "cells": [
  {
   "cell_type": "code",
   "execution_count": null,
   "metadata": {},
   "outputs": [],
   "source": [
    "import pandas as pd\n",
    "import numpy as np\n",
    "import time\n",
    "from sklearn.metrics import mean_squared_error\n",
    "from sklearn.model_selection import KFold"
   ]
  },
  {
   "cell_type": "code",
   "execution_count": null,
   "metadata": {},
   "outputs": [],
   "source": [
    "def MA(ts, window):\n",
    "    # MOVING AVERAGE FEATURE"
   ]
  },
  {
   "cell_type": "code",
   "execution_count": null,
   "metadata": {},
   "outputs": [],
   "source": [
    "def EMA(ts, window):\n",
    "    # EXPONENTIAL MOVING AVERAGE FEATURE"
   ]
  },
  {
   "cell_type": "code",
   "execution_count": null,
   "metadata": {},
   "outputs": [],
   "source": [
    "def MACD(ts, window):\n",
    "    # MOVING AVERAGE CONVERGENCE DIVERGENCE FEATURE"
   ]
  },
  {
   "cell_type": "code",
   "execution_count": null,
   "metadata": {},
   "outputs": [],
   "source": [
    "def BB(ts, stddev, window):\n",
    "    # BOLLINGER BAND FEATURE\n",
    "    \n",
    "    #upper bound\n",
    "    bolu = []\n",
    "    #lower bound\n",
    "    boll = []\n",
    "    \n",
    "    ma = MA(ts, window)\n",
    "    std = std_window(ts, window)\n",
    "    \n",
    "    for i in range(len(ma)):\n",
    "        bolu.append(ma[i] + stddev * std[i])\n",
    "        boll.append(ma[i] - stddev * std[i]) \n",
    "    \n",
    "    return bolu, boll"
   ]
  },
  {
   "cell_type": "code",
   "execution_count": null,
   "metadata": {},
   "outputs": [],
   "source": [
    "def std_window(ts, window):\n",
    "    res = ts.rolling(window, 1).std()\n",
    "    \n",
    "    return res"
   ]
  },
  {
   "cell_type": "code",
   "execution_count": null,
   "metadata": {},
   "outputs": [],
   "source": [
    "def RSI(ts, window):\n",
    "    # RELATIVE STRENGTH INDEX FEATURE"
   ]
  },
  {
   "cell_type": "code",
   "execution_count": null,
   "metadata": {},
   "outputs": [],
   "source": [
    "def VMA(ts, window):\n",
    "    # VOLUME MOVING AVERAGE"
   ]
  },
  {
   "cell_type": "code",
   "execution_count": null,
   "metadata": {},
   "outputs": [],
   "source": [
    "def get_labels(ts)"
   ]
  }
 ],
 "metadata": {
  "kernelspec": {
   "display_name": "Python 3",
   "language": "python",
   "name": "python3"
  },
  "language_info": {
   "codemirror_mode": {
    "name": "ipython",
    "version": 3
   },
   "file_extension": ".py",
   "mimetype": "text/x-python",
   "name": "python",
   "nbconvert_exporter": "python",
   "pygments_lexer": "ipython3",
   "version": "3.6.2"
  }
 },
 "nbformat": 4,
 "nbformat_minor": 2
}
